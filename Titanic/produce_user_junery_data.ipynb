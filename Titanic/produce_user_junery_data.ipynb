{
 "cells": [
  {
   "cell_type": "code",
   "execution_count": 602,
   "metadata": {},
   "outputs": [
    {
     "data": {
      "text/plain": [
       "(418, 11)"
      ]
     },
     "execution_count": 602,
     "metadata": {},
     "output_type": "execute_result"
    }
   ],
   "source": [
    "import pandas as pd\n",
    "train = pd.read_csv('./data/train.csv')\n",
    "test = pd.read_csv('./data/test.csv')\n",
    "# print(train.info())\n",
    "# print(test.info())\n",
    "test.shape"
   ]
  },
  {
   "cell_type": "code",
   "execution_count": 603,
   "metadata": {},
   "outputs": [
    {
     "name": "stdout",
     "output_type": "stream",
     "text": [
      "(891, 13)\n"
     ]
    },
    {
     "data": {
      "text/html": [
       "<div>\n",
       "<style scoped>\n",
       "    .dataframe tbody tr th:only-of-type {\n",
       "        vertical-align: middle;\n",
       "    }\n",
       "\n",
       "    .dataframe tbody tr th {\n",
       "        vertical-align: top;\n",
       "    }\n",
       "\n",
       "    .dataframe thead th {\n",
       "        text-align: right;\n",
       "    }\n",
       "</style>\n",
       "<table border=\"1\" class=\"dataframe\">\n",
       "  <thead>\n",
       "    <tr style=\"text-align: right;\">\n",
       "      <th></th>\n",
       "      <th>PassengerId</th>\n",
       "      <th>Survived</th>\n",
       "      <th>Pclass</th>\n",
       "      <th>Name</th>\n",
       "      <th>Sex</th>\n",
       "      <th>Age</th>\n",
       "      <th>SibSp</th>\n",
       "      <th>Parch</th>\n",
       "      <th>Ticket</th>\n",
       "      <th>Fare</th>\n",
       "      <th>Cabin</th>\n",
       "      <th>Embarked</th>\n",
       "      <th>Title</th>\n",
       "    </tr>\n",
       "  </thead>\n",
       "  <tbody>\n",
       "    <tr>\n",
       "      <th>0</th>\n",
       "      <td>1</td>\n",
       "      <td>0</td>\n",
       "      <td>3</td>\n",
       "      <td>Braund, Mr. Owen Harris</td>\n",
       "      <td>male</td>\n",
       "      <td>22.0</td>\n",
       "      <td>1</td>\n",
       "      <td>0</td>\n",
       "      <td>A/5 21171</td>\n",
       "      <td>7.2500</td>\n",
       "      <td>NaN</td>\n",
       "      <td>S</td>\n",
       "      <td>Mr</td>\n",
       "    </tr>\n",
       "    <tr>\n",
       "      <th>1</th>\n",
       "      <td>2</td>\n",
       "      <td>1</td>\n",
       "      <td>1</td>\n",
       "      <td>Cumings, Mrs. John Bradley (Florence Briggs Th...</td>\n",
       "      <td>female</td>\n",
       "      <td>38.0</td>\n",
       "      <td>1</td>\n",
       "      <td>0</td>\n",
       "      <td>PC 17599</td>\n",
       "      <td>71.2833</td>\n",
       "      <td>C85</td>\n",
       "      <td>C</td>\n",
       "      <td>Mrs</td>\n",
       "    </tr>\n",
       "    <tr>\n",
       "      <th>2</th>\n",
       "      <td>3</td>\n",
       "      <td>1</td>\n",
       "      <td>3</td>\n",
       "      <td>Heikkinen, Miss. Laina</td>\n",
       "      <td>female</td>\n",
       "      <td>26.0</td>\n",
       "      <td>0</td>\n",
       "      <td>0</td>\n",
       "      <td>STON/O2. 3101282</td>\n",
       "      <td>7.9250</td>\n",
       "      <td>NaN</td>\n",
       "      <td>S</td>\n",
       "      <td>Miss</td>\n",
       "    </tr>\n",
       "  </tbody>\n",
       "</table>\n",
       "</div>"
      ],
      "text/plain": [
       "   PassengerId  Survived  Pclass  \\\n",
       "0            1         0       3   \n",
       "1            2         1       1   \n",
       "2            3         1       3   \n",
       "\n",
       "                                                Name     Sex   Age  SibSp  \\\n",
       "0                            Braund, Mr. Owen Harris    male  22.0      1   \n",
       "1  Cumings, Mrs. John Bradley (Florence Briggs Th...  female  38.0      1   \n",
       "2                             Heikkinen, Miss. Laina  female  26.0      0   \n",
       "\n",
       "   Parch            Ticket     Fare Cabin Embarked Title  \n",
       "0      0         A/5 21171   7.2500   NaN        S    Mr  \n",
       "1      0          PC 17599  71.2833   C85        C   Mrs  \n",
       "2      0  STON/O2. 3101282   7.9250   NaN        S  Miss  "
      ]
     },
     "execution_count": 603,
     "metadata": {},
     "output_type": "execute_result"
    }
   ],
   "source": [
    "#Use the Regular Expression to get the title from the name field.\n",
    "import re\n",
    "pattern = re.compile(r'.*?,(.*?)\\.')\n",
    "def getTitle(x):\n",
    "    result = pattern.search(x)\n",
    "    if result:\n",
    "        return result.group(1).strip()\n",
    "    else:\n",
    "        return ''\n",
    "\n",
    "train['Title'] = train['Name'].map(getTitle)\n",
    "test['Title'] = test['Name'].map(getTitle)\n",
    "\n",
    "# print('*' * 20, 'number of data is not null')\n",
    "# print(train['Title'][train['Age']>0].value_counts())\n",
    "# print('=' * 20, 'number of data is null')\n",
    "\n",
    "# #Check how many rows missing the Age by Title\n",
    "# print(train['Title'][train['Age'].isnull()].value_counts())\n",
    "# print(test['Title'][test['Age'].isnull()].value_counts())\n",
    "\n",
    "\n",
    "#Set the missing Age of Title 'Master' \n",
    "master_age_mean = train['Age'][(train['Title']=='Master')&(train['Age']>0)].mean()\n",
    "\n",
    "# Debug - how to get the index and the colum on that index.\n",
    "# print('*' * 20)\n",
    "# print(train.loc[train[(train['Title']=='Master')&(train['Age'].isnull())].index])\n",
    "# print(train.loc[train[(train['Title']=='Master')&(train['Age'].isnull())].index, 'Age'])\n",
    "\n",
    "train.loc[train[(train['Title']=='Master')&(train['Age'].isnull())].index, 'Age'] = master_age_mean\n",
    "test.loc[test[(test['Title']=='Master')&(test['Age'].isnull())].index, 'Age'] = master_age_mean\n",
    "\n",
    "#Set the missing Age of Title 'Mr' \n",
    "mr_age_mean = train['Age'][(train['Title']=='Mr')&(train['Age']>0)].mean()\n",
    "train.loc[train[(train['Title']=='Mr')&(train['Age'].isnull())].index, 'Age'] = mr_age_mean\n",
    "test.loc[test[(test['Title']=='Mr')&(test['Age'].isnull())].index, 'Age'] = mr_age_mean\n",
    "\n",
    "#Set the missing Age of Title 'Miss' or 'Ms'\n",
    "miss_age_mean = train['Age'][(train['Title']=='Miss')&(train['Age']>0)].mean()\n",
    "train.loc[train[(train['Title']=='Miss')&(train['Age'].isnull())].index, 'Age'] = miss_age_mean\n",
    "test.loc[test[((test['Title']=='Miss')|(test['Title']=='Ms'))&(test['Age'].isnull())].index, 'Age'] = miss_age_mean\n",
    "\n",
    "#Set the missing Age of Title 'Mrs' \n",
    "mrs_age_mean = train['Age'][(train['Title']=='Mrs')&(train['Age']>0)].mean()\n",
    "train.loc[train[(train['Title']=='Mrs')&(train['Age'].isnull())].index, 'Age'] = mrs_age_mean\n",
    "test.loc[test[(test['Title']=='Mrs')&(test['Age'].isnull())].index, 'Age'] = mrs_age_mean\n",
    "\n",
    "#Set the missing Age of Title 'Dr' \n",
    "dr_age_mean = train['Age'][(train['Title']=='Dr')&(train['Age']>0)].mean()\n",
    "train.loc[train[(train['Title']=='Dr')&(train['Age'].isnull())].index, 'Age'] = dr_age_mean\n",
    "test.loc[test[(test['Title']=='Mrs')&(test['Age'].isnull())].index, 'Age'] = dr_age_mean\n",
    "\n",
    "# print(train['Age'].describe())\n",
    "# print(test['Age'].describe())\n",
    "print(train.shape)\n",
    "train.head(3)\n"
   ]
  },
  {
   "cell_type": "code",
   "execution_count": 604,
   "metadata": {},
   "outputs": [
    {
     "data": {
      "text/plain": [
       "0"
      ]
     },
     "execution_count": 604,
     "metadata": {},
     "output_type": "execute_result"
    }
   ],
   "source": [
    "train['Age'].isnull().sum()"
   ]
  },
  {
   "cell_type": "code",
   "execution_count": 605,
   "metadata": {
    "scrolled": true
   },
   "outputs": [
    {
     "data": {
      "text/plain": [
       "array(['Mr', 'Mrs', 'Miss', 'Master', 'Don', 'Rev', 'Dr', 'Mme', 'Ms',\n",
       "       'Major', 'Lady', 'Sir', 'Mlle', 'Col', 'Capt', 'the Countess',\n",
       "       'Jonkheer'], dtype=object)"
      ]
     },
     "execution_count": 605,
     "metadata": {},
     "output_type": "execute_result"
    }
   ],
   "source": [
    "pd.unique(train['Title'])\n",
    "# type(train)"
   ]
  },
  {
   "cell_type": "code",
   "execution_count": 606,
   "metadata": {},
   "outputs": [],
   "source": [
    "train = train.drop(['Name','PassengerId'], 1) # 1 for column and 0 for row"
   ]
  },
  {
   "cell_type": "code",
   "execution_count": 607,
   "metadata": {},
   "outputs": [
    {
     "data": {
      "text/html": [
       "<div>\n",
       "<style scoped>\n",
       "    .dataframe tbody tr th:only-of-type {\n",
       "        vertical-align: middle;\n",
       "    }\n",
       "\n",
       "    .dataframe tbody tr th {\n",
       "        vertical-align: top;\n",
       "    }\n",
       "\n",
       "    .dataframe thead th {\n",
       "        text-align: right;\n",
       "    }\n",
       "</style>\n",
       "<table border=\"1\" class=\"dataframe\">\n",
       "  <thead>\n",
       "    <tr style=\"text-align: right;\">\n",
       "      <th></th>\n",
       "      <th>Survived</th>\n",
       "      <th>Pclass</th>\n",
       "      <th>Sex</th>\n",
       "      <th>Age</th>\n",
       "      <th>SibSp</th>\n",
       "      <th>Parch</th>\n",
       "      <th>Ticket</th>\n",
       "      <th>Fare</th>\n",
       "      <th>Cabin</th>\n",
       "      <th>Embarked</th>\n",
       "      <th>Title</th>\n",
       "    </tr>\n",
       "  </thead>\n",
       "  <tbody>\n",
       "    <tr>\n",
       "      <th>0</th>\n",
       "      <td>0</td>\n",
       "      <td>3</td>\n",
       "      <td>male</td>\n",
       "      <td>22.0</td>\n",
       "      <td>1</td>\n",
       "      <td>0</td>\n",
       "      <td>A/5 21171</td>\n",
       "      <td>7.2500</td>\n",
       "      <td>NaN</td>\n",
       "      <td>S</td>\n",
       "      <td>Mr</td>\n",
       "    </tr>\n",
       "    <tr>\n",
       "      <th>1</th>\n",
       "      <td>1</td>\n",
       "      <td>1</td>\n",
       "      <td>female</td>\n",
       "      <td>38.0</td>\n",
       "      <td>1</td>\n",
       "      <td>0</td>\n",
       "      <td>PC 17599</td>\n",
       "      <td>71.2833</td>\n",
       "      <td>C85</td>\n",
       "      <td>C</td>\n",
       "      <td>Mrs</td>\n",
       "    </tr>\n",
       "    <tr>\n",
       "      <th>2</th>\n",
       "      <td>1</td>\n",
       "      <td>3</td>\n",
       "      <td>female</td>\n",
       "      <td>26.0</td>\n",
       "      <td>0</td>\n",
       "      <td>0</td>\n",
       "      <td>STON/O2. 3101282</td>\n",
       "      <td>7.9250</td>\n",
       "      <td>NaN</td>\n",
       "      <td>S</td>\n",
       "      <td>Miss</td>\n",
       "    </tr>\n",
       "  </tbody>\n",
       "</table>\n",
       "</div>"
      ],
      "text/plain": [
       "   Survived  Pclass     Sex   Age  SibSp  Parch            Ticket     Fare  \\\n",
       "0         0       3    male  22.0      1      0         A/5 21171   7.2500   \n",
       "1         1       1  female  38.0      1      0          PC 17599  71.2833   \n",
       "2         1       3  female  26.0      0      0  STON/O2. 3101282   7.9250   \n",
       "\n",
       "  Cabin Embarked Title  \n",
       "0   NaN        S    Mr  \n",
       "1   C85        C   Mrs  \n",
       "2   NaN        S  Miss  "
      ]
     },
     "execution_count": 607,
     "metadata": {},
     "output_type": "execute_result"
    }
   ],
   "source": [
    "combine = [train, test]\n",
    "for train in combine: \n",
    "    train['Title'] = train['Title'].replace(['Lady', 'Countess','Capt', 'Col',\\\n",
    " \t'Don', 'Dr', 'Major', 'Rev', 'Sir', 'Jonkheer', 'Dona'], 'Rare')\n",
    "    train['Title'] = train['Title'].replace('Mlle', 'Miss')\n",
    "    train['Title'] = train['Title'].replace('Ms', 'Miss')\n",
    "    train['Title'] = train['Title'].replace('Mme', 'Mrs')\n",
    "    \n",
    "combine[0].head(3)\n",
    "# pd.unique(train['Title'])"
   ]
  },
  {
   "cell_type": "code",
   "execution_count": 608,
   "metadata": {},
   "outputs": [
    {
     "data": {
      "text/plain": [
       "327"
      ]
     },
     "execution_count": 608,
     "metadata": {},
     "output_type": "execute_result"
    }
   ],
   "source": [
    "train.Cabin.isnull().sum()\n",
    "# pd.unique(train.Cabin)"
   ]
  },
  {
   "cell_type": "code",
   "execution_count": 609,
   "metadata": {},
   "outputs": [
    {
     "data": {
      "text/html": [
       "<div>\n",
       "<style scoped>\n",
       "    .dataframe tbody tr th:only-of-type {\n",
       "        vertical-align: middle;\n",
       "    }\n",
       "\n",
       "    .dataframe tbody tr th {\n",
       "        vertical-align: top;\n",
       "    }\n",
       "\n",
       "    .dataframe thead th {\n",
       "        text-align: right;\n",
       "    }\n",
       "</style>\n",
       "<table border=\"1\" class=\"dataframe\">\n",
       "  <thead>\n",
       "    <tr style=\"text-align: right;\">\n",
       "      <th></th>\n",
       "      <th>Survived</th>\n",
       "      <th>Pclass</th>\n",
       "      <th>Sex</th>\n",
       "      <th>Age</th>\n",
       "      <th>SibSp</th>\n",
       "      <th>Parch</th>\n",
       "      <th>Ticket</th>\n",
       "      <th>Fare</th>\n",
       "      <th>Cabin</th>\n",
       "      <th>Embarked</th>\n",
       "      <th>Title</th>\n",
       "    </tr>\n",
       "  </thead>\n",
       "  <tbody>\n",
       "    <tr>\n",
       "      <th>0</th>\n",
       "      <td>0</td>\n",
       "      <td>3</td>\n",
       "      <td>male</td>\n",
       "      <td>22.0</td>\n",
       "      <td>1</td>\n",
       "      <td>0</td>\n",
       "      <td>A/5 21171</td>\n",
       "      <td>7.2500</td>\n",
       "      <td>XX</td>\n",
       "      <td>S</td>\n",
       "      <td>Mr</td>\n",
       "    </tr>\n",
       "    <tr>\n",
       "      <th>1</th>\n",
       "      <td>1</td>\n",
       "      <td>1</td>\n",
       "      <td>female</td>\n",
       "      <td>38.0</td>\n",
       "      <td>1</td>\n",
       "      <td>0</td>\n",
       "      <td>PC 17599</td>\n",
       "      <td>71.2833</td>\n",
       "      <td>C</td>\n",
       "      <td>C</td>\n",
       "      <td>Mrs</td>\n",
       "    </tr>\n",
       "    <tr>\n",
       "      <th>2</th>\n",
       "      <td>1</td>\n",
       "      <td>3</td>\n",
       "      <td>female</td>\n",
       "      <td>26.0</td>\n",
       "      <td>0</td>\n",
       "      <td>0</td>\n",
       "      <td>STON/O2. 3101282</td>\n",
       "      <td>7.9250</td>\n",
       "      <td>XX</td>\n",
       "      <td>S</td>\n",
       "      <td>Miss</td>\n",
       "    </tr>\n",
       "  </tbody>\n",
       "</table>\n",
       "</div>"
      ],
      "text/plain": [
       "   Survived  Pclass     Sex   Age  SibSp  Parch            Ticket     Fare  \\\n",
       "0         0       3    male  22.0      1      0         A/5 21171   7.2500   \n",
       "1         1       1  female  38.0      1      0          PC 17599  71.2833   \n",
       "2         1       3  female  26.0      0      0  STON/O2. 3101282   7.9250   \n",
       "\n",
       "  Cabin Embarked Title  \n",
       "0    XX        S    Mr  \n",
       "1     C        C   Mrs  \n",
       "2    XX        S  Miss  "
      ]
     },
     "execution_count": 609,
     "metadata": {},
     "output_type": "execute_result"
    }
   ],
   "source": [
    "for train in combine: \n",
    "    train['Cabin'] = train['Cabin'].fillna(\"XX\");\n",
    "    train['Cabin'].replace('A.*', \"A\", regex=True, inplace=True)\n",
    "    train['Cabin'].replace('B.*', \"B\", regex=True, inplace=True)\n",
    "    train['Cabin'].replace('C.*', \"C\", regex=True, inplace=True)\n",
    "    train['Cabin'].replace('D.*', \"D\", regex=True, inplace=True)\n",
    "    train['Cabin'].replace('E.*', \"E\", regex=True, inplace=True)\n",
    "    train['Cabin'].replace('F.*', \"F\", regex=True, inplace=True)\n",
    "    \n",
    "combine[0].head(3)"
   ]
  },
  {
   "cell_type": "code",
   "execution_count": 610,
   "metadata": {
    "scrolled": true
   },
   "outputs": [
    {
     "data": {
      "text/html": [
       "<div>\n",
       "<style scoped>\n",
       "    .dataframe tbody tr th:only-of-type {\n",
       "        vertical-align: middle;\n",
       "    }\n",
       "\n",
       "    .dataframe tbody tr th {\n",
       "        vertical-align: top;\n",
       "    }\n",
       "\n",
       "    .dataframe thead th {\n",
       "        text-align: right;\n",
       "    }\n",
       "</style>\n",
       "<table border=\"1\" class=\"dataframe\">\n",
       "  <thead>\n",
       "    <tr style=\"text-align: right;\">\n",
       "      <th></th>\n",
       "      <th>Involoved</th>\n",
       "      <th>Class</th>\n",
       "      <th>Sex</th>\n",
       "      <th>Age</th>\n",
       "      <th>SibSp</th>\n",
       "      <th>Channel</th>\n",
       "      <th>Ticket</th>\n",
       "      <th>Spending</th>\n",
       "      <th>Product</th>\n",
       "      <th>Location</th>\n",
       "      <th>Title</th>\n",
       "    </tr>\n",
       "  </thead>\n",
       "  <tbody>\n",
       "    <tr>\n",
       "      <th>0</th>\n",
       "      <td>0</td>\n",
       "      <td>3</td>\n",
       "      <td>male</td>\n",
       "      <td>22.0</td>\n",
       "      <td>1</td>\n",
       "      <td>0</td>\n",
       "      <td>A/5 21171</td>\n",
       "      <td>7.2500</td>\n",
       "      <td>XX</td>\n",
       "      <td>S</td>\n",
       "      <td>Mr</td>\n",
       "    </tr>\n",
       "    <tr>\n",
       "      <th>1</th>\n",
       "      <td>1</td>\n",
       "      <td>1</td>\n",
       "      <td>female</td>\n",
       "      <td>38.0</td>\n",
       "      <td>1</td>\n",
       "      <td>0</td>\n",
       "      <td>PC 17599</td>\n",
       "      <td>71.2833</td>\n",
       "      <td>C</td>\n",
       "      <td>C</td>\n",
       "      <td>Mrs</td>\n",
       "    </tr>\n",
       "    <tr>\n",
       "      <th>2</th>\n",
       "      <td>1</td>\n",
       "      <td>3</td>\n",
       "      <td>female</td>\n",
       "      <td>26.0</td>\n",
       "      <td>0</td>\n",
       "      <td>0</td>\n",
       "      <td>STON/O2. 3101282</td>\n",
       "      <td>7.9250</td>\n",
       "      <td>XX</td>\n",
       "      <td>S</td>\n",
       "      <td>Miss</td>\n",
       "    </tr>\n",
       "  </tbody>\n",
       "</table>\n",
       "</div>"
      ],
      "text/plain": [
       "   Involoved  Class     Sex   Age  SibSp  Channel            Ticket  Spending  \\\n",
       "0          0      3    male  22.0      1        0         A/5 21171    7.2500   \n",
       "1          1      1  female  38.0      1        0          PC 17599   71.2833   \n",
       "2          1      3  female  26.0      0        0  STON/O2. 3101282    7.9250   \n",
       "\n",
       "  Product Location Title  \n",
       "0      XX        S    Mr  \n",
       "1       C        C   Mrs  \n",
       "2      XX        S  Miss  "
      ]
     },
     "execution_count": 610,
     "metadata": {},
     "output_type": "execute_result"
    }
   ],
   "source": [
    "for dataset in combine:\n",
    "   dataset.rename(columns={\"Fare\":\"Spending\", \"Survived\":\"Involoved\", \"Cabin\":\"Product\",\\\n",
    "                           \"Parch\":\"Channel\", \"Embarked\": \"Location\", \"Pclass\":\"Class\"}, inplace=True)\n",
    "\n",
    "combine[0].head(3)"
   ]
  },
  {
   "cell_type": "code",
   "execution_count": 611,
   "metadata": {},
   "outputs": [
    {
     "data": {
      "text/html": [
       "<div>\n",
       "<style scoped>\n",
       "    .dataframe tbody tr th:only-of-type {\n",
       "        vertical-align: middle;\n",
       "    }\n",
       "\n",
       "    .dataframe tbody tr th {\n",
       "        vertical-align: top;\n",
       "    }\n",
       "\n",
       "    .dataframe thead th {\n",
       "        text-align: right;\n",
       "    }\n",
       "</style>\n",
       "<table border=\"1\" class=\"dataframe\">\n",
       "  <thead>\n",
       "    <tr style=\"text-align: right;\">\n",
       "      <th></th>\n",
       "      <th>Involoved</th>\n",
       "      <th>Class</th>\n",
       "      <th>Sex</th>\n",
       "      <th>Age</th>\n",
       "      <th>Channel</th>\n",
       "      <th>Spending</th>\n",
       "      <th>Product</th>\n",
       "      <th>Location</th>\n",
       "      <th>Title</th>\n",
       "      <th>SpendingCat</th>\n",
       "      <th>AgeCat</th>\n",
       "    </tr>\n",
       "  </thead>\n",
       "  <tbody>\n",
       "    <tr>\n",
       "      <th>0</th>\n",
       "      <td>0</td>\n",
       "      <td>3</td>\n",
       "      <td>male</td>\n",
       "      <td>22.0</td>\n",
       "      <td>0</td>\n",
       "      <td>7.2500</td>\n",
       "      <td>XX</td>\n",
       "      <td>S</td>\n",
       "      <td>Mr</td>\n",
       "      <td>0</td>\n",
       "      <td>2</td>\n",
       "    </tr>\n",
       "    <tr>\n",
       "      <th>1</th>\n",
       "      <td>1</td>\n",
       "      <td>1</td>\n",
       "      <td>female</td>\n",
       "      <td>38.0</td>\n",
       "      <td>0</td>\n",
       "      <td>71.2833</td>\n",
       "      <td>C</td>\n",
       "      <td>C</td>\n",
       "      <td>Mrs</td>\n",
       "      <td>1</td>\n",
       "      <td>4</td>\n",
       "    </tr>\n",
       "    <tr>\n",
       "      <th>2</th>\n",
       "      <td>1</td>\n",
       "      <td>3</td>\n",
       "      <td>female</td>\n",
       "      <td>26.0</td>\n",
       "      <td>0</td>\n",
       "      <td>7.9250</td>\n",
       "      <td>XX</td>\n",
       "      <td>S</td>\n",
       "      <td>Miss</td>\n",
       "      <td>0</td>\n",
       "      <td>2</td>\n",
       "    </tr>\n",
       "  </tbody>\n",
       "</table>\n",
       "</div>"
      ],
      "text/plain": [
       "   Involoved  Class     Sex   Age  Channel  Spending Product Location Title  \\\n",
       "0          0      3    male  22.0        0    7.2500      XX        S    Mr   \n",
       "1          1      1  female  38.0        0   71.2833       C        C   Mrs   \n",
       "2          1      3  female  26.0        0    7.9250      XX        S  Miss   \n",
       "\n",
       "  SpendingCat AgeCat  \n",
       "0           0      2  \n",
       "1           1      4  \n",
       "2           0      2  "
      ]
     },
     "execution_count": 611,
     "metadata": {},
     "output_type": "execute_result"
    }
   ],
   "source": [
    "for train in combine: \n",
    "    train['SpendingCat'] = pd.cut(train['Spending'], [-0.1, 50, 100, 150, 200, 300, 1000], right=True, \n",
    "        labels=[0, 1, 2, 3, 4, 5])\n",
    "    train['AgeCat'] = pd.cut(train['Age'], [-0.1, 12.1, 20, 30, 35, 40, 45, 50, 55, 65, 100], right=True, \n",
    "        labels=[0, 1, 2, 3, 4, 5, 6, 7, 8, 9])\n",
    "    train.drop(columns='SibSp', inplace=True)\n",
    "    train.drop(columns='Ticket', inplace=True)\n",
    "    \n",
    "combine[0].to_csv('./data/user_train.csv')\n",
    "combine[1].to_csv('./data/user_test.csv')\n",
    "combine[0].head(3)"
   ]
  },
  {
   "cell_type": "markdown",
   "metadata": {},
   "source": [
    "# Done fake the data and start to process them for the model."
   ]
  },
  {
   "cell_type": "code",
   "execution_count": 612,
   "metadata": {},
   "outputs": [
    {
     "data": {
      "text/html": [
       "<div>\n",
       "<style scoped>\n",
       "    .dataframe tbody tr th:only-of-type {\n",
       "        vertical-align: middle;\n",
       "    }\n",
       "\n",
       "    .dataframe tbody tr th {\n",
       "        vertical-align: top;\n",
       "    }\n",
       "\n",
       "    .dataframe thead th {\n",
       "        text-align: right;\n",
       "    }\n",
       "</style>\n",
       "<table border=\"1\" class=\"dataframe\">\n",
       "  <thead>\n",
       "    <tr style=\"text-align: right;\">\n",
       "      <th></th>\n",
       "      <th>Involoved</th>\n",
       "      <th>Class</th>\n",
       "      <th>Sex</th>\n",
       "      <th>Channel</th>\n",
       "      <th>Product</th>\n",
       "      <th>Location</th>\n",
       "      <th>Title</th>\n",
       "      <th>SpendingCat</th>\n",
       "      <th>AgeCat</th>\n",
       "    </tr>\n",
       "  </thead>\n",
       "  <tbody>\n",
       "    <tr>\n",
       "      <th>0</th>\n",
       "      <td>0</td>\n",
       "      <td>3</td>\n",
       "      <td>male</td>\n",
       "      <td>0</td>\n",
       "      <td>XX</td>\n",
       "      <td>S</td>\n",
       "      <td>Mr</td>\n",
       "      <td>0</td>\n",
       "      <td>2</td>\n",
       "    </tr>\n",
       "    <tr>\n",
       "      <th>1</th>\n",
       "      <td>1</td>\n",
       "      <td>1</td>\n",
       "      <td>female</td>\n",
       "      <td>0</td>\n",
       "      <td>C</td>\n",
       "      <td>C</td>\n",
       "      <td>Mrs</td>\n",
       "      <td>1</td>\n",
       "      <td>4</td>\n",
       "    </tr>\n",
       "    <tr>\n",
       "      <th>2</th>\n",
       "      <td>1</td>\n",
       "      <td>3</td>\n",
       "      <td>female</td>\n",
       "      <td>0</td>\n",
       "      <td>XX</td>\n",
       "      <td>S</td>\n",
       "      <td>Miss</td>\n",
       "      <td>0</td>\n",
       "      <td>2</td>\n",
       "    </tr>\n",
       "  </tbody>\n",
       "</table>\n",
       "</div>"
      ],
      "text/plain": [
       "   Involoved  Class     Sex  Channel Product Location Title SpendingCat AgeCat\n",
       "0          0      3    male        0      XX        S    Mr           0      2\n",
       "1          1      1  female        0       C        C   Mrs           1      4\n",
       "2          1      3  female        0      XX        S  Miss           0      2"
      ]
     },
     "execution_count": 612,
     "metadata": {},
     "output_type": "execute_result"
    }
   ],
   "source": [
    "for data in combine:\n",
    "    data.drop(columns='Spending', inplace=True)\n",
    "    data.drop(columns='Age', inplace=True)\n",
    "    \n",
    "combine[0].head(3)"
   ]
  },
  {
   "cell_type": "code",
   "execution_count": 613,
   "metadata": {},
   "outputs": [
    {
     "name": "stdout",
     "output_type": "stream",
     "text": [
      "y_train\n",
      "329    1\n",
      "749    3\n",
      "203    6\n",
      "Name: AgeCat, dtype: category\n",
      "Categories (10, int64): [0 < 1 < 2 < 3 ... 6 < 7 < 8 < 9]\n",
      "y_test\n",
      "172    0\n",
      "524    3\n",
      "452    2\n",
      "Name: AgeCat, dtype: category\n",
      "Categories (10, int64): [0 < 1 < 2 < 3 ... 6 < 7 < 8 < 9]\n",
      "y_train with one-hot encoder\n",
      "     0  1  2  3  4  5  6  7  8  9\n",
      "329  0  1  0  0  0  0  0  0  0  0\n",
      "749  0  0  0  1  0  0  0  0  0  0\n",
      "203  0  0  0  0  0  0  1  0  0  0\n",
      "y_test with one-hot encoder\n",
      "     0  1  2  3  4  5  6  7  8  9\n",
      "172  1  0  0  0  0  0  0  0  0  0\n",
      "524  0  0  0  1  0  0  0  0  0  0\n",
      "452  0  0  1  0  0  0  0  0  0  0\n"
     ]
    }
   ],
   "source": [
    "\n",
    "# TODO: do not use one-hot, this is not good for NN, \n",
    "# becasue the number of columns can be different between train and prodict and we cannot define the input dim for NN.\n",
    "from sklearn.model_selection import train_test_split\n",
    "\n",
    "columns = ['Involoved','Class', 'Sex', 'Channel', 'Product', 'Location', 'Title', 'SpendingCat']\n",
    "\n",
    "data_age_cat = combine[0]['AgeCat']\n",
    "data_without_age = combine[0].drop(columns='AgeCat')\n",
    "data_one_hot = pd.get_dummies(data_without_age)\n",
    "data_one_hot['AgeCat'] = data_age_cat\n",
    "\n",
    "X_train, X_test, y_train, y_test = train_test_split(data_one_hot, data_age_cat, test_size=0.2, random_state=123)\n",
    "y_test_origion = y_test.copy()\n",
    "# To check the one-hot encoder is correct.\n",
    "print(\"y_train\")\n",
    "print(y_train[:3])\n",
    "print(\"y_test\")\n",
    "print(y_test[:3])\n",
    "y_train = pd.get_dummies(y_train)\n",
    "y_test = pd.get_dummies(y_test)\n",
    "print(\"y_train with one-hot encoder\")\n",
    "print(y_train[:3])\n",
    "print(\"y_test with one-hot encoder\")\n",
    "print(y_test[:3])\n"
   ]
  },
  {
   "cell_type": "code",
   "execution_count": 614,
   "metadata": {},
   "outputs": [
    {
     "name": "stderr",
     "output_type": "stream",
     "text": [
      "/opt/conda/lib/python3.6/site-packages/ipykernel_launcher.py:11: UserWarning: Update your `Dense` call to the Keras 2 API: `Dense(1200, input_dim=30, activation=\"relu\", kernel_initializer=\"normal\")`\n",
      "  # This is added back by InteractiveShellApp.init_path()\n",
      "/opt/conda/lib/python3.6/site-packages/ipykernel_launcher.py:13: UserWarning: Update your `Dense` call to the Keras 2 API: `Dense(2000, activation=\"relu\", kernel_initializer=\"normal\")`\n",
      "  del sys.path[0]\n",
      "/opt/conda/lib/python3.6/site-packages/ipykernel_launcher.py:15: UserWarning: Update your `Dense` call to the Keras 2 API: `Dense(10, activation=\"sigmoid\", kernel_initializer=\"normal\")`\n",
      "  from ipykernel import kernelapp as app\n",
      "/opt/conda/lib/python3.6/site-packages/Keras-2.1.5-py3.6.egg/keras/models.py:966: UserWarning: The `nb_epoch` argument in `fit` has been renamed `epochs`.\n",
      "  warnings.warn('The `nb_epoch` argument in `fit` '\n"
     ]
    },
    {
     "name": "stdout",
     "output_type": "stream",
     "text": [
      "Epoch 1/60\n",
      "712/712 [==============================] - 4s 5ms/step - loss: 1.8278 - acc: 0.3301\n",
      "Epoch 2/60\n",
      "712/712 [==============================] - 2s 3ms/step - loss: 1.2173 - acc: 0.3638\n",
      "Epoch 3/60\n",
      "712/712 [==============================] - 2s 3ms/step - loss: 0.9362 - acc: 0.5337\n",
      "Epoch 4/60\n",
      "712/712 [==============================] - 3s 4ms/step - loss: 0.7605 - acc: 0.5674\n",
      "Epoch 5/60\n",
      "712/712 [==============================] - 3s 4ms/step - loss: 0.6937 - acc: 0.5590\n",
      "Epoch 6/60\n",
      "712/712 [==============================] - 3s 4ms/step - loss: 0.6854 - acc: 0.5506\n",
      "Epoch 7/60\n",
      "712/712 [==============================] - 2s 3ms/step - loss: 0.6798 - acc: 0.5716\n",
      "Epoch 8/60\n",
      "712/712 [==============================] - 2s 3ms/step - loss: 0.6251 - acc: 0.5562\n",
      "Epoch 9/60\n",
      "712/712 [==============================] - 2s 3ms/step - loss: 0.6030 - acc: 0.5787A: 2s - loss:\n",
      "Epoch 10/60\n",
      "712/712 [==============================] - 3s 4ms/step - loss: 0.6163 - acc: 0.5787\n",
      "Epoch 11/60\n",
      "712/712 [==============================] - 3s 4ms/step - loss: 0.5930 - acc: 0.5646\n",
      "Epoch 12/60\n",
      "712/712 [==============================] - 2s 3ms/step - loss: 0.5923 - acc: 0.5801\n",
      "Epoch 13/60\n",
      "712/712 [==============================] - 2s 3ms/step - loss: 0.5727 - acc: 0.5997\n",
      "Epoch 14/60\n",
      "712/712 [==============================] - 2s 3ms/step - loss: 0.5440 - acc: 0.6152\n",
      "Epoch 15/60\n",
      "712/712 [==============================] - 2s 3ms/step - loss: 0.5312 - acc: 0.6194\n",
      "Epoch 16/60\n",
      "712/712 [==============================] - 2s 3ms/step - loss: 0.5415 - acc: 0.6601\n",
      "Epoch 17/60\n",
      "712/712 [==============================] - 2s 4ms/step - loss: 0.5055 - acc: 0.6812\n",
      "Epoch 18/60\n",
      "712/712 [==============================] - 2s 3ms/step - loss: 0.4632 - acc: 0.7177\n",
      "Epoch 19/60\n",
      "712/712 [==============================] - 3s 4ms/step - loss: 0.4633 - acc: 0.7233\n",
      "Epoch 20/60\n",
      "712/712 [==============================] - 2s 3ms/step - loss: 0.4463 - acc: 0.7346\n",
      "Epoch 21/60\n",
      "712/712 [==============================] - 2s 3ms/step - loss: 0.4484 - acc: 0.7388\n",
      "Epoch 22/60\n",
      "712/712 [==============================] - 2s 3ms/step - loss: 0.4590 - acc: 0.7317\n",
      "Epoch 23/60\n",
      "712/712 [==============================] - 2s 3ms/step - loss: 0.3965 - acc: 0.7402\n",
      "Epoch 24/60\n",
      "712/712 [==============================] - 2s 3ms/step - loss: 0.4458 - acc: 0.7416\n",
      "Epoch 25/60\n",
      "712/712 [==============================] - 2s 3ms/step - loss: 0.4273 - acc: 0.7360\n",
      "Epoch 26/60\n",
      "712/712 [==============================] - 2s 3ms/step - loss: 0.4485 - acc: 0.7402\n",
      "Epoch 27/60\n",
      "712/712 [==============================] - 2s 3ms/step - loss: 0.4578 - acc: 0.7289\n",
      "Epoch 28/60\n",
      "712/712 [==============================] - 2s 3ms/step - loss: 0.4158 - acc: 0.7402\n",
      "Epoch 29/60\n",
      "712/712 [==============================] - 2s 3ms/step - loss: 0.4047 - acc: 0.7458\n",
      "Epoch 30/60\n",
      "712/712 [==============================] - 2s 3ms/step - loss: 0.3818 - acc: 0.7416\n",
      "Epoch 31/60\n",
      "712/712 [==============================] - 2s 3ms/step - loss: 0.3707 - acc: 0.7458\n",
      "Epoch 32/60\n",
      "712/712 [==============================] - 3s 4ms/step - loss: 0.3828 - acc: 0.7514\n",
      "Epoch 33/60\n",
      "712/712 [==============================] - 2s 3ms/step - loss: 0.4246 - acc: 0.7416\n",
      "Epoch 34/60\n",
      "712/712 [==============================] - 2s 3ms/step - loss: 0.4157 - acc: 0.7317\n",
      "Epoch 35/60\n",
      "712/712 [==============================] - 2s 3ms/step - loss: 0.3713 - acc: 0.7444\n",
      "Epoch 36/60\n",
      "712/712 [==============================] - 2s 3ms/step - loss: 0.3825 - acc: 0.7514\n",
      "Epoch 37/60\n",
      "712/712 [==============================] - 2s 3ms/step - loss: 0.3672 - acc: 0.7444\n",
      "Epoch 38/60\n",
      "712/712 [==============================] - 2s 3ms/step - loss: 0.3920 - acc: 0.7500\n",
      "Epoch 39/60\n",
      "712/712 [==============================] - 2s 3ms/step - loss: 0.3810 - acc: 0.7472\n",
      "Epoch 40/60\n",
      "712/712 [==============================] - 2s 3ms/step - loss: 0.4007 - acc: 0.7514\n",
      "Epoch 41/60\n",
      "712/712 [==============================] - 2s 3ms/step - loss: 0.3960 - acc: 0.7402\n",
      "Epoch 42/60\n",
      "712/712 [==============================] - 2s 3ms/step - loss: 0.3813 - acc: 0.7430\n",
      "Epoch 43/60\n",
      "712/712 [==============================] - 2s 3ms/step - loss: 0.3793 - acc: 0.7458\n",
      "Epoch 44/60\n",
      "712/712 [==============================] - 2s 3ms/step - loss: 0.3817 - acc: 0.7388\n",
      "Epoch 45/60\n",
      "712/712 [==============================] - 2s 3ms/step - loss: 0.3660 - acc: 0.7402\n",
      "Epoch 46/60\n",
      "712/712 [==============================] - 2s 3ms/step - loss: 0.3962 - acc: 0.7444\n",
      "Epoch 47/60\n",
      "712/712 [==============================] - 2s 2ms/step - loss: 0.3887 - acc: 0.7472\n",
      "Epoch 48/60\n",
      "712/712 [==============================] - 2s 3ms/step - loss: 0.4051 - acc: 0.7430\n",
      "Epoch 49/60\n",
      "712/712 [==============================] - 2s 3ms/step - loss: 0.4203 - acc: 0.7500\n",
      "Epoch 50/60\n",
      "712/712 [==============================] - 2s 2ms/step - loss: 0.3946 - acc: 0.7458\n",
      "Epoch 51/60\n",
      "712/712 [==============================] - 2s 3ms/step - loss: 0.3600 - acc: 0.7514\n",
      "Epoch 52/60\n",
      "712/712 [==============================] - 2s 3ms/step - loss: 0.3614 - acc: 0.7430\n",
      "Epoch 53/60\n",
      "712/712 [==============================] - 2s 3ms/step - loss: 0.3769 - acc: 0.7500\n",
      "Epoch 54/60\n",
      "712/712 [==============================] - 2s 3ms/step - loss: 0.3669 - acc: 0.7444\n",
      "Epoch 55/60\n",
      "712/712 [==============================] - 2s 3ms/step - loss: 0.3662 - acc: 0.7486\n",
      "Epoch 56/60\n",
      "712/712 [==============================] - 2s 3ms/step - loss: 0.3922 - acc: 0.7388\n",
      "Epoch 57/60\n",
      "712/712 [==============================] - 2s 3ms/step - loss: 0.3843 - acc: 0.7430\n",
      "Epoch 58/60\n",
      "712/712 [==============================] - 2s 3ms/step - loss: 0.3615 - acc: 0.7444\n",
      "Epoch 59/60\n",
      "712/712 [==============================] - 3s 4ms/step - loss: 0.3659 - acc: 0.7458\n",
      "Epoch 60/60\n",
      "712/712 [==============================] - 2s 3ms/step - loss: 0.3522 - acc: 0.7444\n"
     ]
    }
   ],
   "source": [
    "import numpy as np\n",
    "from __future__ import absolute_import\n",
    "\n",
    "from keras.models import Sequential\n",
    "from keras.layers import Dense, Activation, Dropout\n",
    "from keras.regularizers import l2, l1\n",
    "\n",
    "in_dim = X_train.shape[1]\n",
    "model = Sequential()\n",
    "\n",
    "model.add(Dense(1200, input_dim=in_dim, init='normal', activation='relu'))\n",
    "model.add(Dropout(0.6))\n",
    "model.add(Dense(2000, init='normal', activation='relu'))\n",
    "model.add(Dropout(0.6))\n",
    "model.add(Dense(10, init='normal', activation='sigmoid'))\n",
    "model.compile(loss='categorical_crossentropy', optimizer='adam' ,metrics = ['accuracy'])\n",
    "# model1.compile(loss = 'categorical_crossentropy', optimizer='adam',metrics = ['accuracy'])\n",
    "model.fit(X_train, y_train, nb_epoch=60, batch_size=32)\n",
    "\n",
    "model.save('model_and_param_50_epoch.h5')"
   ]
  },
  {
   "cell_type": "code",
   "execution_count": 615,
   "metadata": {},
   "outputs": [],
   "source": [
    "from keras.models import load_model\n",
    "model = load_model(\"model_and_param_50_epoch.h5\")"
   ]
  },
  {
   "cell_type": "markdown",
   "metadata": {},
   "source": [
    "# Test Accuracy is 0.54 - not bad."
   ]
  },
  {
   "cell_type": "code",
   "execution_count": 616,
   "metadata": {},
   "outputs": [
    {
     "name": "stdout",
     "output_type": "stream",
     "text": [
      "test accuracy:  0.5418994413407822\n"
     ]
    }
   ],
   "source": [
    "result = model.predict_classes(X_test)\n",
    "rightnum = 0\n",
    "for i in result:\n",
    "    if result[i] == y_test_origion.values[i]:\n",
    "        rightnum += 1\n",
    "        \n",
    "print(\"test accuracy: \", rightnum/result.shape[0])"
   ]
  },
  {
   "cell_type": "markdown",
   "metadata": {},
   "source": [
    "# Take a look at the prediction."
   ]
  },
  {
   "cell_type": "code",
   "execution_count": 618,
   "metadata": {
    "scrolled": true
   },
   "outputs": [
    {
     "name": "stdout",
     "output_type": "stream",
     "text": [
      "Should be:  [0, 3, 2, 8, 2, 6, 4, 2, 1, 2]\n",
      "Categories (10, int64): [0 < 1 < 2 < 3 ... 6 < 7 < 8 < 9]\n",
      "Predicted:  [0 3 2 3 2 3 3 2 1 2]\n"
     ]
    }
   ],
   "source": [
    "print(\"Should be: \", y_test_origion[:10].values)\n",
    "print(\"Predicted: \", model.predict_classes(X_test[:10]))"
   ]
  },
  {
   "cell_type": "code",
   "execution_count": 640,
   "metadata": {},
   "outputs": [
    {
     "name": "stdout",
     "output_type": "stream",
     "text": [
      "[[1.0000000e+00 2.5623894e-09 2.1703909e-28 1.0888994e-37 5.5364472e-31\n",
      "  5.4244174e-30 2.0855570e-36 6.8431018e-37 9.4888964e-37 0.0000000e+00]]\n"
     ]
    },
    {
     "data": {
      "text/plain": [
       "array([2, 1, 0])"
      ]
     },
     "execution_count": 640,
     "metadata": {},
     "output_type": "execute_result"
    }
   ],
   "source": [
    "proba = model.predict_proba(X_test[:1])\n",
    "print(proba)\n",
    "# get the top 3\n",
    "np.argpartition(proba[0], -3)[-3:]\n"
   ]
  },
  {
   "cell_type": "markdown",
   "metadata": {},
   "source": [
    "# See the top 3 coverage - 89%"
   ]
  },
  {
   "cell_type": "code",
   "execution_count": 656,
   "metadata": {},
   "outputs": [
    {
     "name": "stdout",
     "output_type": "stream",
     "text": [
      "test accuracy:  0.8938547486033519\n"
     ]
    }
   ],
   "source": [
    "prob_result = model.predict_proba(X_test)\n",
    "rightnum = 0\n",
    "for i in np.arange(0, prob_result.shape[0]):  # loop all predictions\n",
    "    for j in np.argpartition(prob_result[i], -3)[-3:]: # loop the top 3 classes in i-th prediction\n",
    "        if j == y_test_origion.values[i]:\n",
    "            rightnum += 1\n",
    "        \n",
    "print(\"test accuracy: \", rightnum/result.shape[0])"
   ]
  }
 ],
 "metadata": {
  "kernelspec": {
   "display_name": "Python 3",
   "language": "python",
   "name": "python3"
  },
  "language_info": {
   "codemirror_mode": {
    "name": "ipython",
    "version": 3
   },
   "file_extension": ".py",
   "mimetype": "text/x-python",
   "name": "python",
   "nbconvert_exporter": "python",
   "pygments_lexer": "ipython3",
   "version": "3.6.4"
  }
 },
 "nbformat": 4,
 "nbformat_minor": 2
}
